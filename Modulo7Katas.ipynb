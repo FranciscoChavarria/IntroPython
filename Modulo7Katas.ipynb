{
 "cells": [
  {
   "cell_type": "code",
   "execution_count": 6,
   "metadata": {},
   "outputs": [
    {
     "name": "stdout",
     "output_type": "stream",
     "text": [
      "['mercurio', 'venus']\n",
      "Planeta numero  1  : mercurio\n",
      "Planeta numero  2  : venus\n"
     ]
    }
   ],
   "source": [
    "#Ejercicio 1\n",
    "new_planet = ''\n",
    "planets = []\n",
    "\n",
    "while new_planet.lower() != 'done':\n",
    "    if new_planet:\n",
    "        planets.append(new_planet)\n",
    "\n",
    "    new_planet = input(\"Introduzca nombre planeta, si desea terminar escriba done\")\n",
    "\n",
    "print(planets)\n",
    "\n",
    "#Ejercicio 2\n",
    "iter = 0\n",
    "for planeta in planets:\n",
    "    iter = iter + 1\n",
    "    print(\"Planeta numero \", iter, \" :\", planeta)"
   ]
  }
 ],
 "metadata": {
  "interpreter": {
   "hash": "f6dd48ccfb8ea7400af8ecf7379d70eccbbe7965badd3d83a74bf199ad0b6f6a"
  },
  "kernelspec": {
   "display_name": "Python 3.10.2 64-bit",
   "language": "python",
   "name": "python3"
  },
  "language_info": {
   "codemirror_mode": {
    "name": "ipython",
    "version": 3
   },
   "file_extension": ".py",
   "mimetype": "text/x-python",
   "name": "python",
   "nbconvert_exporter": "python",
   "pygments_lexer": "ipython3",
   "version": "3.10.2"
  },
  "orig_nbformat": 4
 },
 "nbformat": 4,
 "nbformat_minor": 2
}
