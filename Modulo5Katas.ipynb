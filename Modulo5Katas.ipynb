{
 "cells": [
  {
   "cell_type": "markdown",
   "metadata": {},
   "source": [
    "## Ejercicio 1"
   ]
  },
  {
   "cell_type": "code",
   "execution_count": 1,
   "metadata": {},
   "outputs": [
    {
     "name": "stdout",
     "output_type": "stream",
     "text": [
      "distancia entre la tierra y jupiter 628949330 Km\n",
      "distancia entre la tierra y jupiter 390577533.93 Millas\n"
     ]
    }
   ],
   "source": [
    "tierra  = 149597870 #Km\n",
    "jupiter = 778547200 #Km\n",
    "\n",
    "if(jupiter > tierra):\n",
    "    distancia = jupiter - tierra\n",
    "else:\n",
    "    distancia = tierra - jupiter\n",
    "\n",
    "print(f\"distancia entre la tierra y jupiter {distancia} Km\")\n",
    "print(f\"distancia entre la tierra y jupiter {distancia*0.621} Millas\")"
   ]
  },
  {
   "cell_type": "markdown",
   "metadata": {},
   "source": [
    "# Ejercicio 2"
   ]
  },
  {
   "cell_type": "code",
   "execution_count": 5,
   "metadata": {},
   "outputs": [
    {
     "name": "stdout",
     "output_type": "stream",
     "text": [
      "100\n"
     ]
    }
   ],
   "source": [
    "planeta1 = input(\"Cual es la distancia al sol para el primer planeta?\")\n",
    "planeta2 = input(\"Cual es la distancia al sol para el segundo planeta?\")\n",
    "\n",
    "print(abs(int(planeta1) - int(planeta2)))"
   ]
  }
 ],
 "metadata": {
  "interpreter": {
   "hash": "f6dd48ccfb8ea7400af8ecf7379d70eccbbe7965badd3d83a74bf199ad0b6f6a"
  },
  "kernelspec": {
   "display_name": "Python 3.10.2 64-bit",
   "language": "python",
   "name": "python3"
  },
  "language_info": {
   "codemirror_mode": {
    "name": "ipython",
    "version": 3
   },
   "file_extension": ".py",
   "mimetype": "text/x-python",
   "name": "python",
   "nbconvert_exporter": "python",
   "pygments_lexer": "ipython3",
   "version": "3.10.2"
  },
  "orig_nbformat": 4
 },
 "nbformat": 4,
 "nbformat_minor": 2
}
