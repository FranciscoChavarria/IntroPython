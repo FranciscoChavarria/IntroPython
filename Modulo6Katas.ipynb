{
 "cells": [
  {
   "cell_type": "markdown",
   "metadata": {},
   "source": [
    "## Ejercicio 1\n",
    "Crear y usar listas de Python"
   ]
  },
  {
   "cell_type": "code",
   "execution_count": 2,
   "metadata": {},
   "outputs": [
    {
     "name": "stdout",
     "output_type": "stream",
     "text": [
      "['Mercurio', 'Venus', 'Tierra', 'Marte', 'Jupiter', 'Saturno', 'Urano', 'Neptuno']\n",
      "numero de planetas:  9\n",
      "ultimo planeta es:  Pluton\n"
     ]
    }
   ],
   "source": [
    "planets = ['Mercurio','Venus','Tierra','Marte','Jupiter','Saturno','Urano','Neptuno']\n",
    "\n",
    "print(planets)\n",
    "\n",
    "planets.append(\"Pluton\")\n",
    "print(\"numero de planetas: \", len(planets))\n",
    "print(\"ultimo planeta es: \",planets[-1])"
   ]
  },
  {
   "cell_type": "markdown",
   "metadata": {},
   "source": [
    "## Ejercicio 2\n",
    "Trabajando con datos de una lista"
   ]
  },
  {
   "cell_type": "code",
   "execution_count": 11,
   "metadata": {},
   "outputs": [
    {
     "name": "stdout",
     "output_type": "stream",
     "text": [
      "Planetas cercanos a  Jupiter ['Mercury', 'Venus', 'Earth', 'Mars']\n",
      "Planetas lejanos a  Jupiter ['Saturn', 'Neptune']\n"
     ]
    }
   ],
   "source": [
    "# Lista de planetas\n",
    "planets = ['Mercury', 'Venus', 'Earth', 'Mars', 'Jupiter', 'Saturn', 'Neptune']\n",
    "\n",
    "nombrePlaneta = input(\"Ingresa el nombre del planeta\")\n",
    "numeroPlaneta = planets.index(nombrePlaneta)\n",
    "\n",
    "plan_cerc_sol = planets[0:numeroPlaneta]\n",
    "plan_lej_sol = planets[numeroPlaneta+1:]\n",
    "\n",
    "print(\"Planetas cercanos a \", planets[numeroPlaneta] , plan_cerc_sol)\n",
    "print(\"Planetas lejanos a \", planets[numeroPlaneta] , plan_lej_sol)"
   ]
  }
 ],
 "metadata": {
  "interpreter": {
   "hash": "f6dd48ccfb8ea7400af8ecf7379d70eccbbe7965badd3d83a74bf199ad0b6f6a"
  },
  "kernelspec": {
   "display_name": "Python 3.10.2 64-bit",
   "language": "python",
   "name": "python3"
  },
  "language_info": {
   "codemirror_mode": {
    "name": "ipython",
    "version": 3
   },
   "file_extension": ".py",
   "mimetype": "text/x-python",
   "name": "python",
   "nbconvert_exporter": "python",
   "pygments_lexer": "ipython3",
   "version": "3.10.2"
  },
  "orig_nbformat": 4
 },
 "nbformat": 4,
 "nbformat_minor": 2
}
