{
 "cells": [
  {
   "cell_type": "markdown",
   "metadata": {},
   "source": [
    "## Ejercicio 1\n",
    "Trabajar con argumentos en funciones"
   ]
  },
  {
   "cell_type": "code",
   "execution_count": 2,
   "metadata": {},
   "outputs": [
    {
     "name": "stdout",
     "output_type": "stream",
     "text": [
      "Promedio de lecturas de los tanques es 6.0\n"
     ]
    }
   ],
   "source": [
    "def lectura_tanques(*args):\n",
    "    lec_comb = sum(args)\n",
    "    #print(f'Promedio de lecturas de los tanques es {lec_comb/len(args)}')\n",
    "    promedio(lec_comb, len(args))\n",
    "\n",
    "def promedio(suma,numero):\n",
    "    print(f'Promedio de lecturas de los tanques es {suma/numero}')\n",
    "\n",
    "lectura_tanques(5,6,7)"
   ]
  }
 ],
 "metadata": {
  "interpreter": {
   "hash": "f6dd48ccfb8ea7400af8ecf7379d70eccbbe7965badd3d83a74bf199ad0b6f6a"
  },
  "kernelspec": {
   "display_name": "Python 3.10.2 64-bit",
   "language": "python",
   "name": "python3"
  },
  "language_info": {
   "codemirror_mode": {
    "name": "ipython",
    "version": 3
   },
   "file_extension": ".py",
   "mimetype": "text/x-python",
   "name": "python",
   "nbconvert_exporter": "python",
   "pygments_lexer": "ipython3",
   "version": "3.10.2"
  },
  "orig_nbformat": 4
 },
 "nbformat": 4,
 "nbformat_minor": 2
}
