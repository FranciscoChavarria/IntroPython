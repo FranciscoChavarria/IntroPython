{
 "cells": [
  {
   "cell_type": "code",
   "execution_count": 9,
   "metadata": {},
   "outputs": [
    {
     "name": "stdout",
     "output_type": "stream",
     "text": [
      "mars tiene 42 lunas\n",
      "mars tiene una circunferencia polar de 6752 \n"
     ]
    }
   ],
   "source": [
    "planet ={\n",
    "    'name':'mars',\n",
    "    'number':42\n",
    "}\n",
    "\n",
    "print(f\"{planet.get('name')} tiene {planet['number']} lunas\")\n",
    "\n",
    "planet.update({\n",
    "    'circunferencia (km)':{\n",
    "        'polar': 6752,\n",
    "        'equatorial': 6792\n",
    "    }\n",
    "})\n",
    "\n",
    "print(f\"{planet.get('name')} tiene una circunferencia polar de {planet['circunferencia (km)']['polar']} \")"
   ]
  },
  {
   "cell_type": "code",
   "execution_count": 13,
   "metadata": {},
   "outputs": [
    {
     "name": "stdout",
     "output_type": "stream",
     "text": [
      "dict_values([0, 0, 1, 2, 79, 82, 27, 14, 5, 2, 1, 1])\n",
      "Total de Lunas:  214\n",
      "Total de planetas:  12\n",
      "Promedio de Lunas:  17.833333333333332\n"
     ]
    }
   ],
   "source": [
    "# Planets and moons\n",
    "\n",
    "planet_moons = {\n",
    "    'mercury': 0,\n",
    "    'venus': 0,\n",
    "    'earth': 1,\n",
    "    'mars': 2,\n",
    "    'jupiter': 79,\n",
    "    'saturn': 82,\n",
    "    'uranus': 27,\n",
    "    'neptune': 14,\n",
    "    'pluto': 5,\n",
    "    'haumea': 2,\n",
    "    'makemake': 1,\n",
    "    'eris': 1\n",
    "}\n",
    "\n",
    "moons = 0\n",
    "planets = 0\n",
    "\n",
    "for lunas in planet_moons.values():\n",
    "    moons += lunas\n",
    "    planets = planets + 1\n",
    "\n",
    "print(\"Total de Lunas: \", str(moons))\n",
    "print(\"Total de planetas: \", str(planets))\n",
    "print(f'Promedio de Lunas:  {moons/planets}')"
   ]
  }
 ],
 "metadata": {
  "interpreter": {
   "hash": "f6dd48ccfb8ea7400af8ecf7379d70eccbbe7965badd3d83a74bf199ad0b6f6a"
  },
  "kernelspec": {
   "display_name": "Python 3.10.2 64-bit",
   "language": "python",
   "name": "python3"
  },
  "language_info": {
   "codemirror_mode": {
    "name": "ipython",
    "version": 3
   },
   "file_extension": ".py",
   "mimetype": "text/x-python",
   "name": "python",
   "nbconvert_exporter": "python",
   "pygments_lexer": "ipython3",
   "version": "3.10.2"
  },
  "orig_nbformat": 4
 },
 "nbformat": 4,
 "nbformat_minor": 2
}
